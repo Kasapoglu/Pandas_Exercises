{
 "cells": [
  {
   "cell_type": "markdown",
   "id": "ade85594-b8e2-4aec-8202-27e56e04d128",
   "metadata": {},
   "source": [
    "# Filtering and Aggregate Functions"
   ]
  },
  {
   "cell_type": "code",
   "execution_count": 1,
   "id": "fe7f98e6-67e7-4563-8adf-94e6cab36855",
   "metadata": {},
   "outputs": [],
   "source": [
    "# 1-Import the pandas library and alias it as pd.\n",
    "\n",
    "import pandas as pd"
   ]
  },
  {
   "cell_type": "code",
   "execution_count": 2,
   "id": "4aa61a8b-b4c2-496b-9549-70aa7e48b646",
   "metadata": {},
   "outputs": [
    {
     "data": {
      "text/html": [
       "<div>\n",
       "<style scoped>\n",
       "    .dataframe tbody tr th:only-of-type {\n",
       "        vertical-align: middle;\n",
       "    }\n",
       "\n",
       "    .dataframe tbody tr th {\n",
       "        vertical-align: top;\n",
       "    }\n",
       "\n",
       "    .dataframe thead th {\n",
       "        text-align: right;\n",
       "    }\n",
       "</style>\n",
       "<table border=\"1\" class=\"dataframe\">\n",
       "  <thead>\n",
       "    <tr style=\"text-align: right;\">\n",
       "      <th></th>\n",
       "      <th>Name</th>\n",
       "      <th>Age</th>\n",
       "      <th>Country</th>\n",
       "      <th>Salary</th>\n",
       "    </tr>\n",
       "  </thead>\n",
       "  <tbody>\n",
       "    <tr>\n",
       "      <th>0</th>\n",
       "      <td>John</td>\n",
       "      <td>25</td>\n",
       "      <td>USA</td>\n",
       "      <td>50000</td>\n",
       "    </tr>\n",
       "    <tr>\n",
       "      <th>1</th>\n",
       "      <td>Sarah</td>\n",
       "      <td>32</td>\n",
       "      <td>Canada</td>\n",
       "      <td>65000</td>\n",
       "    </tr>\n",
       "    <tr>\n",
       "      <th>2</th>\n",
       "      <td>Peter</td>\n",
       "      <td>45</td>\n",
       "      <td>UK</td>\n",
       "      <td>80000</td>\n",
       "    </tr>\n",
       "    <tr>\n",
       "      <th>3</th>\n",
       "      <td>Alice</td>\n",
       "      <td>28</td>\n",
       "      <td>USA</td>\n",
       "      <td>55000</td>\n",
       "    </tr>\n",
       "    <tr>\n",
       "      <th>4</th>\n",
       "      <td>Tom</td>\n",
       "      <td>35</td>\n",
       "      <td>Canada</td>\n",
       "      <td>70000</td>\n",
       "    </tr>\n",
       "    <tr>\n",
       "      <th>5</th>\n",
       "      <td>Jane</td>\n",
       "      <td>41</td>\n",
       "      <td>UK</td>\n",
       "      <td>75000</td>\n",
       "    </tr>\n",
       "  </tbody>\n",
       "</table>\n",
       "</div>"
      ],
      "text/plain": [
       "    Name  Age Country  Salary\n",
       "0   John   25     USA   50000\n",
       "1  Sarah   32  Canada   65000\n",
       "2  Peter   45      UK   80000\n",
       "3  Alice   28     USA   55000\n",
       "4    Tom   35  Canada   70000\n",
       "5   Jane   41      UK   75000"
      ]
     },
     "execution_count": 2,
     "metadata": {},
     "output_type": "execute_result"
    }
   ],
   "source": [
    "# 2-Create a DataFrame with the following data:\n",
    "\n",
    "\"\"\"\n",
    "                        Name   Age Country Salary\n",
    "                        John    25   USA    50000\n",
    "                        Sarah   32  Canada  65000\n",
    "                        Peter   45   UK     80000\n",
    "                        Alice   28   USA    55000\n",
    "                        Tom     35  Canada  70000\n",
    "                        Jane    41   UK     75000\n",
    "\n",
    "\"\"\"\n",
    "\n",
    "dfDict = {\"Name\":[\"John\",\"Sarah\",\"Peter\",\"Alice\",\"Tom\",\"Jane\"],\"Age\":[25,32,45,28,35,41],\n",
    "          \"Country\":[\"USA\",\"Canada\",\"UK\",\"USA\",\"Canada\",\"UK\"],\"Salary\":[50000,65000,80000,55000,70000,75000]}\n",
    "\n",
    "df = pd.DataFrame(dfDict)\n",
    "df"
   ]
  },
  {
   "cell_type": "code",
   "execution_count": 9,
   "id": "0360f187-412b-4164-8dfc-9c3814cbe8f5",
   "metadata": {},
   "outputs": [
    {
     "data": {
      "text/plain": [
       "25"
      ]
     },
     "execution_count": 9,
     "metadata": {},
     "output_type": "execute_result"
    }
   ],
   "source": [
    "# 3-What is the minimum age in the dataset?\n",
    "\n",
    "df.Age.min()"
   ]
  },
  {
   "cell_type": "code",
   "execution_count": 10,
   "id": "eefe5cca-6f4c-44e7-a940-56008e46fa30",
   "metadata": {
    "tags": []
   },
   "outputs": [
    {
     "data": {
      "text/plain": [
       "80000"
      ]
     },
     "execution_count": 10,
     "metadata": {},
     "output_type": "execute_result"
    }
   ],
   "source": [
    "# 4-What is the maximum salary in the dataset?\n",
    "\n",
    "df.Salary.max()"
   ]
  },
  {
   "cell_type": "code",
   "execution_count": 11,
   "id": "2cff6bd9-c463-4b00-b419-984c9f4d1902",
   "metadata": {
    "tags": []
   },
   "outputs": [
    {
     "data": {
      "text/plain": [
       "65833.33333333333"
      ]
     },
     "execution_count": 11,
     "metadata": {},
     "output_type": "execute_result"
    }
   ],
   "source": [
    "# 5-What is the average salary in the dataset?\n",
    "\n",
    "df.Salary.mean()"
   ]
  },
  {
   "cell_type": "code",
   "execution_count": 12,
   "id": "b7dbdb03-6521-47c1-9a9c-0ffb04560a7b",
   "metadata": {
    "tags": []
   },
   "outputs": [
    {
     "data": {
      "text/plain": [
       "33.5"
      ]
     },
     "execution_count": 12,
     "metadata": {},
     "output_type": "execute_result"
    }
   ],
   "source": [
    "# 6-What is the median age in the dataset?\n",
    "\n",
    "df.Age.median()"
   ]
  },
  {
   "cell_type": "code",
   "execution_count": 13,
   "id": "9cb2482d-348e-40d0-87f6-02f14e7a42e7",
   "metadata": {
    "tags": []
   },
   "outputs": [
    {
     "data": {
      "text/plain": [
       "array(['USA', 'Canada', 'UK'], dtype=object)"
      ]
     },
     "execution_count": 13,
     "metadata": {},
     "output_type": "execute_result"
    }
   ],
   "source": [
    "# 7-What are the unique countries in the dataset?\n",
    "\n",
    "df.Country.unique()"
   ]
  },
  {
   "cell_type": "code",
   "execution_count": 14,
   "id": "4083390e-10b9-4fe9-b077-97cc0f1a9772",
   "metadata": {
    "tags": []
   },
   "outputs": [
    {
     "data": {
      "text/plain": [
       "USA       2\n",
       "Canada    2\n",
       "UK        2\n",
       "Name: Country, dtype: int64"
      ]
     },
     "execution_count": 14,
     "metadata": {},
     "output_type": "execute_result"
    }
   ],
   "source": [
    "# 8-How many individuals are from Canada?\n",
    "#    How many individuals are from the USA?\n",
    "#    How many individuals are from the UK?\n",
    "\n",
    "df.Country.value_counts()"
   ]
  },
  {
   "cell_type": "code",
   "execution_count": 15,
   "id": "21e2122e-fa87-431e-8c7f-25e2ff2068bd",
   "metadata": {
    "tags": []
   },
   "outputs": [
    {
     "data": {
      "text/plain": [
       "(65000, 70000)"
      ]
     },
     "execution_count": 15,
     "metadata": {},
     "output_type": "execute_result"
    }
   ],
   "source": [
    "# 9-What is the salary range for individuals from Canada?\n",
    "\n",
    "df[df.Country==\"Canada\"][\"Salary\"].min() , df[df.Country==\"Canada\"][\"Salary\"].max()"
   ]
  },
  {
   "cell_type": "code",
   "execution_count": 16,
   "id": "d5c10b6f-d8ee-4a43-84cb-b057fc9b3eb2",
   "metadata": {
    "tags": []
   },
   "outputs": [
    {
     "data": {
      "text/plain": [
       "52500.0"
      ]
     },
     "execution_count": 16,
     "metadata": {},
     "output_type": "execute_result"
    }
   ],
   "source": [
    "# 10-What is the average salary for individuals from the USA?\n",
    "\n",
    "df[df.Country==\"USA\"].Salary.mean()"
   ]
  },
  {
   "cell_type": "code",
   "execution_count": 17,
   "id": "fab08558-d048-4f24-8175-79bfe47442aa",
   "metadata": {
    "tags": []
   },
   "outputs": [
    {
     "data": {
      "text/plain": [
       "2"
      ]
     },
     "execution_count": 17,
     "metadata": {},
     "output_type": "execute_result"
    }
   ],
   "source": [
    "# 11-How many individuals are between the ages of 30 and 40?\n",
    "\n",
    "len( df[(df.Age>30) & (df.Age<40)] )"
   ]
  },
  {
   "cell_type": "code",
   "execution_count": 18,
   "id": "ee965165-3a4d-41de-bab0-71f1b525709d",
   "metadata": {
    "tags": []
   },
   "outputs": [
    {
     "data": {
      "text/plain": [
       "38.25"
      ]
     },
     "execution_count": 18,
     "metadata": {},
     "output_type": "execute_result"
    }
   ],
   "source": [
    "# 12-What is the average age for individuals with a salary greater than $60,000?\n",
    "\n",
    "df[df.Salary > 60000].Age.mean()"
   ]
  },
  {
   "cell_type": "code",
   "execution_count": 19,
   "id": "e6207122-3fed-4e55-b1b8-a4833cc25c81",
   "metadata": {
    "tags": []
   },
   "outputs": [
    {
     "data": {
      "text/plain": [
       "135000"
      ]
     },
     "execution_count": 19,
     "metadata": {},
     "output_type": "execute_result"
    }
   ],
   "source": [
    "# 13-What is the total salary paid to individuals from Canada?\n",
    "\n",
    "df[df.Country==\"Canada\"].Salary.sum()"
   ]
  },
  {
   "cell_type": "code",
   "execution_count": 20,
   "id": "5886b49e-3410-42fa-aee8-2e47856562fa",
   "metadata": {
    "tags": []
   },
   "outputs": [
    {
     "data": {
      "text/plain": [
       "Country\n",
       "Canada    135000\n",
       "UK        155000\n",
       "USA       105000\n",
       "Name: Salary, dtype: int64"
      ]
     },
     "execution_count": 20,
     "metadata": {},
     "output_type": "execute_result"
    }
   ],
   "source": [
    "# 14-What is the total salary paid to individuals from Canada?\n",
    "#    What is the total salary paid to individuals from the USA?\n",
    "#    What is the total salary paid to individuals from the UK?\n",
    "\n",
    "df.groupby(by=\"Country\").Salary.sum()"
   ]
  },
  {
   "cell_type": "code",
   "execution_count": 21,
   "id": "d357ae07-9266-4f52-97c2-c619a5ab1836",
   "metadata": {
    "tags": []
   },
   "outputs": [
    {
     "data": {
      "text/plain": [
       "105000"
      ]
     },
     "execution_count": 21,
     "metadata": {},
     "output_type": "execute_result"
    }
   ],
   "source": [
    "# 15-What is the total salary paid to individuals under the age of 30?\n",
    "\n",
    "df[df.Age<30].Salary.sum()"
   ]
  },
  {
   "cell_type": "code",
   "execution_count": 22,
   "id": "ee152295-8432-4a2f-b9bc-4efddf21ab68",
   "metadata": {
    "tags": []
   },
   "outputs": [
    {
     "data": {
      "text/plain": [
       "135000"
      ]
     },
     "execution_count": 22,
     "metadata": {},
     "output_type": "execute_result"
    }
   ],
   "source": [
    "# 16-What is the total salary paid to individuals between the ages of 30 and 40?\n",
    "\n",
    "df[(df.Age>30) & (df.Age<40)].Salary.sum()"
   ]
  },
  {
   "cell_type": "code",
   "execution_count": 23,
   "id": "80d1760a-f5da-4ec0-b478-30297e2ffc88",
   "metadata": {
    "tags": []
   },
   "outputs": [
    {
     "data": {
      "text/plain": [
       "USA       33.333333\n",
       "Canada    33.333333\n",
       "UK        33.333333\n",
       "Name: Country, dtype: float64"
      ]
     },
     "execution_count": 23,
     "metadata": {},
     "output_type": "execute_result"
    }
   ],
   "source": [
    "# 17-What is the percentage of individuals in the dataset from each country?\n",
    "\n",
    "country_counts = df[\"Country\"].value_counts()\n",
    "\n",
    "country_percentages = country_counts / len(df) * 100\n",
    "\n",
    "country_percentages"
   ]
  },
  {
   "cell_type": "code",
   "execution_count": 24,
   "id": "29772d2f-e4a0-41d4-bddb-3527a488cdd1",
   "metadata": {
    "tags": []
   },
   "outputs": [
    {
     "data": {
      "text/plain": [
       "0"
      ]
     },
     "execution_count": 24,
     "metadata": {},
     "output_type": "execute_result"
    }
   ],
   "source": [
    "# 18-What is the total salary paid to individuals who are 30 years old or younger and from Canada?\n",
    "\n",
    "df[ (df[\"Age\"]<=30) & (df[\"Country\"]==\"Canada\")].Salary.sum()"
   ]
  },
  {
   "cell_type": "code",
   "execution_count": 25,
   "id": "c7ef42a4-83ec-4d23-8ae9-b1a9e1537814",
   "metadata": {
    "tags": []
   },
   "outputs": [
    {
     "data": {
      "text/plain": [
       "77500.0"
      ]
     },
     "execution_count": 25,
     "metadata": {},
     "output_type": "execute_result"
    }
   ],
   "source": [
    "# 19-What is the average salary for individuals who are over 40 years old and from the UK?\n",
    "\n",
    "df[ (df[\"Age\"]>40) & (df[\"Country\"]==\"UK\") ].Salary.mean()"
   ]
  },
  {
   "cell_type": "code",
   "execution_count": 26,
   "id": "f910e27a-7af4-4ce4-b622-352506c1bbf2",
   "metadata": {
    "tags": []
   },
   "outputs": [
    {
     "name": "stdout",
     "output_type": "stream",
     "text": [
      "41.0\n"
     ]
    }
   ],
   "source": [
    "# 20-What is the median age of individuals who have a salary greater than the overall median salary?\n",
    "\n",
    "\n",
    "# Calculate the median salary for the entire dataset\n",
    "overall_median_salary = df['Salary'].median()\n",
    "\n",
    "# Filter the dataframe to include only individuals with a salary greater than the overall median salary\n",
    "high_salary_df = df[df['Salary'] > overall_median_salary]\n",
    "\n",
    "# Calculate the median age of the high salary individuals\n",
    "median_age_high_salary = high_salary_df['Age'].median()\n",
    "\n",
    "# Display the result\n",
    "print(median_age_high_salary)\n"
   ]
  },
  {
   "cell_type": "code",
   "execution_count": 27,
   "id": "fb223e4d-c80d-457e-84c7-8e80f373e41d",
   "metadata": {
    "tags": []
   },
   "outputs": [
    {
     "data": {
      "text/plain": [
       "0"
      ]
     },
     "execution_count": 27,
     "metadata": {},
     "output_type": "execute_result"
    }
   ],
   "source": [
    "# 21-How many individuals have a salary greater than or equal to $70,000 and are from the USA?\n",
    "\n",
    "filt= (df[\"Salary\"]>=70000) & (df[\"Country\"]==\"USA\")\n",
    "\n",
    "len(df[filt])"
   ]
  },
  {
   "cell_type": "code",
   "execution_count": 28,
   "id": "8e79cfb5-cefd-460a-bd86-cb0aea2432b4",
   "metadata": {
    "tags": []
   },
   "outputs": [
    {
     "data": {
      "text/html": [
       "<div>\n",
       "<style scoped>\n",
       "    .dataframe tbody tr th:only-of-type {\n",
       "        vertical-align: middle;\n",
       "    }\n",
       "\n",
       "    .dataframe tbody tr th {\n",
       "        vertical-align: top;\n",
       "    }\n",
       "\n",
       "    .dataframe thead th {\n",
       "        text-align: right;\n",
       "    }\n",
       "</style>\n",
       "<table border=\"1\" class=\"dataframe\">\n",
       "  <thead>\n",
       "    <tr style=\"text-align: right;\">\n",
       "      <th></th>\n",
       "      <th>Name</th>\n",
       "      <th>Age</th>\n",
       "      <th>Country</th>\n",
       "      <th>Salary</th>\n",
       "    </tr>\n",
       "  </thead>\n",
       "  <tbody>\n",
       "    <tr>\n",
       "      <th>1</th>\n",
       "      <td>Sarah</td>\n",
       "      <td>32</td>\n",
       "      <td>Canada</td>\n",
       "      <td>65000</td>\n",
       "    </tr>\n",
       "  </tbody>\n",
       "</table>\n",
       "</div>"
      ],
      "text/plain": [
       "    Name  Age Country  Salary\n",
       "1  Sarah   32  Canada   65000"
      ]
     },
     "execution_count": 28,
     "metadata": {},
     "output_type": "execute_result"
    }
   ],
   "source": [
    "# 22-What is the average salary for individuals between the ages of 25 and 35 who are not from the USA?\n",
    "\n",
    "filt2  = ( (df[\"Age\"]>25) & (df[\"Age\"]<35) )\n",
    "\n",
    "df[ filt2 & (df[\"Country\"]!=\"USA\") ]"
   ]
  }
 ],
 "metadata": {
  "kernelspec": {
   "display_name": "Python 3 (ipykernel)",
   "language": "python",
   "name": "python3"
  },
  "language_info": {
   "codemirror_mode": {
    "name": "ipython",
    "version": 3
   },
   "file_extension": ".py",
   "mimetype": "text/x-python",
   "name": "python",
   "nbconvert_exporter": "python",
   "pygments_lexer": "ipython3",
   "version": "3.9.13"
  }
 },
 "nbformat": 4,
 "nbformat_minor": 5
}
